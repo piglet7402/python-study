{
 "cells": [
  {
   "cell_type": "code",
   "execution_count": null,
   "metadata": {
    "colab": {
     "base_uri": "https://localhost:8080/"
    },
    "executionInfo": {
     "elapsed": 4483,
     "status": "ok",
     "timestamp": 1605501317643,
     "user": {
      "displayName": "박희진",
      "photoUrl": "https://lh3.googleusercontent.com/a-/AOh14GjEM1h4_jlaIbqsJqo5PlhcC4bBQIxlt5_Z7Y_oGg=s64",
      "userId": "04727579243057026808"
     },
     "user_tz": -540
    },
    "id": "-swR-OmvVYqR",
    "outputId": "c77c3763-8bc5-44d6-f5b6-83e5c9ed7cc0"
   },
   "outputs": [],
   "source": [
    "!pip install scikit-learn\n",
    "# scikit-learn 설치하기"
   ]
  },
  {
   "cell_type": "code",
   "execution_count": 1,
   "metadata": {
    "executionInfo": {
     "elapsed": 1605,
     "status": "ok",
     "timestamp": 1605501464190,
     "user": {
      "displayName": "박희진",
      "photoUrl": "https://lh3.googleusercontent.com/a-/AOh14GjEM1h4_jlaIbqsJqo5PlhcC4bBQIxlt5_Z7Y_oGg=s64",
      "userId": "04727579243057026808"
     },
     "user_tz": -540
    },
    "id": "e7FbfkBhIkTs"
   },
   "outputs": [],
   "source": [
    "import numpy as np\n",
    "from sklearn.linear_model import LinearRegression"
   ]
  },
  {
   "cell_type": "code",
   "execution_count": 2,
   "metadata": {
    "colab": {
     "base_uri": "https://localhost:8080/"
    },
    "executionInfo": {
     "elapsed": 1598,
     "status": "ok",
     "timestamp": 1605501464191,
     "user": {
      "displayName": "박희진",
      "photoUrl": "https://lh3.googleusercontent.com/a-/AOh14GjEM1h4_jlaIbqsJqo5PlhcC4bBQIxlt5_Z7Y_oGg=s64",
      "userId": "04727579243057026808"
     },
     "user_tz": -540
    },
    "id": "7FFF9WiTTXRu",
    "outputId": "b1ec1206-79de-4fa9-a594-c763ca95ddcb"
   },
   "outputs": [
    {
     "name": "stdout",
     "output_type": "stream",
     "text": [
      "[0 1 2 3 4 5 6 7 8 9] <class 'numpy.ndarray'>\n",
      "(10,)\n"
     ]
    }
   ],
   "source": [
    "# 1차원 데이터\n",
    "x = np.arange(10)\n",
    "# array + range\n",
    "# 0부터 10미만의 숫자를 배열로 반환\n",
    "\n",
    "print(x, type(x))\n",
    "print(x.shape)"
   ]
  },
  {
   "cell_type": "code",
   "execution_count": 3,
   "metadata": {
    "colab": {
     "base_uri": "https://localhost:8080/"
    },
    "executionInfo": {
     "elapsed": 1588,
     "status": "ok",
     "timestamp": 1605501464191,
     "user": {
      "displayName": "박희진",
      "photoUrl": "https://lh3.googleusercontent.com/a-/AOh14GjEM1h4_jlaIbqsJqo5PlhcC4bBQIxlt5_Z7Y_oGg=s64",
      "userId": "04727579243057026808"
     },
     "user_tz": -540
    },
    "id": "yRZSXmTTIyDs",
    "outputId": "c59ab7a6-4e07-4d5a-a9a6-d700351d121a"
   },
   "outputs": [
    {
     "name": "stdout",
     "output_type": "stream",
     "text": [
      "[[0]\n",
      " [1]\n",
      " [2]\n",
      " [3]\n",
      " [4]\n",
      " [5]\n",
      " [6]\n",
      " [7]\n",
      " [8]\n",
      " [9]] <class 'numpy.ndarray'>\n",
      "(10, 1)\n"
     ]
    }
   ],
   "source": [
    "# 2차원 데이터\n",
    "x = np.arange(10).reshape(-1, 1)\n",
    "# 기존 데이터는 유지하고 차원과 형상을 바꾸는데 사용\n",
    "# 배열의 안의 값은 유지하고 차원을 변경\n",
    "# -1로 설정하면 나머지를 자동으로 맞춤\n",
    "\n",
    "print(x, type(x))\n",
    "print(x.shape)"
   ]
  },
  {
   "cell_type": "code",
   "execution_count": 4,
   "metadata": {},
   "outputs": [
    {
     "name": "stdout",
     "output_type": "stream",
     "text": [
      "[[0 1 2 3 4]\n",
      " [5 6 7 8 9]]\n",
      "[[0 1]\n",
      " [2 3]\n",
      " [4 5]\n",
      " [6 7]\n",
      " [8 9]]\n"
     ]
    }
   ],
   "source": [
    "x1 = np.arange(10).reshape(2, -1)\n",
    "# -1로 설정하면 나머지를 자동으로 맞춤\n",
    "\n",
    "x2 = np.arange(10).reshape(5, -1)\n",
    "\n",
    "print(x1)\n",
    "print(x2)"
   ]
  },
  {
   "cell_type": "code",
   "execution_count": 5,
   "metadata": {
    "executionInfo": {
     "elapsed": 1507,
     "status": "ok",
     "timestamp": 1605501464192,
     "user": {
      "displayName": "박희진",
      "photoUrl": "https://lh3.googleusercontent.com/a-/AOh14GjEM1h4_jlaIbqsJqo5PlhcC4bBQIxlt5_Z7Y_oGg=s64",
      "userId": "04727579243057026808"
     },
     "user_tz": -540
    },
    "id": "zxeoKPMpI4o6"
   },
   "outputs": [],
   "source": [
    "#y = (2*x + 1)\n",
    "y = (2*x + 1).reshape(-1, 1)"
   ]
  },
  {
   "cell_type": "code",
   "execution_count": 6,
   "metadata": {
    "colab": {
     "base_uri": "https://localhost:8080/"
    },
    "executionInfo": {
     "elapsed": 1334,
     "status": "ok",
     "timestamp": 1605501464193,
     "user": {
      "displayName": "박희진",
      "photoUrl": "https://lh3.googleusercontent.com/a-/AOh14GjEM1h4_jlaIbqsJqo5PlhcC4bBQIxlt5_Z7Y_oGg=s64",
      "userId": "04727579243057026808"
     },
     "user_tz": -540
    },
    "id": "Nlx4kjkrI5N5",
    "outputId": "a9f905d4-cafd-458a-ab54-776824b31ec6"
   },
   "outputs": [
    {
     "name": "stdout",
     "output_type": "stream",
     "text": [
      "[[ 1]\n",
      " [ 3]\n",
      " [ 5]\n",
      " [ 7]\n",
      " [ 9]\n",
      " [11]\n",
      " [13]\n",
      " [15]\n",
      " [17]\n",
      " [19]]\n",
      "(10, 1)\n"
     ]
    }
   ],
   "source": [
    "print(y)\n",
    "print(y.shape)"
   ]
  },
  {
   "cell_type": "markdown",
   "metadata": {
    "id": "lrYy3kXBJMxu"
   },
   "source": [
    "## 모델의 선언, fit(학습), predict(예측)"
   ]
  },
  {
   "cell_type": "code",
   "execution_count": 7,
   "metadata": {
    "executionInfo": {
     "elapsed": 764,
     "status": "ok",
     "timestamp": 1605501716057,
     "user": {
      "displayName": "박희진",
      "photoUrl": "https://lh3.googleusercontent.com/a-/AOh14GjEM1h4_jlaIbqsJqo5PlhcC4bBQIxlt5_Z7Y_oGg=s64",
      "userId": "04727579243057026808"
     },
     "user_tz": -540
    },
    "id": "JJ9T6KAtI5hw"
   },
   "outputs": [],
   "source": [
    "# 모델 선언, 인스턴스(객체) 생성\n",
    "\n",
    "model = LinearRegression()\n",
    "# 선형 회귀 (Linear Regression)\n",
    "# 회귀 : 연속적인 타깃을 예측하는 알고리즘"
   ]
  },
  {
   "cell_type": "code",
   "execution_count": 8,
   "metadata": {
    "colab": {
     "base_uri": "https://localhost:8080/"
    },
    "executionInfo": {
     "elapsed": 682,
     "status": "ok",
     "timestamp": 1605501716369,
     "user": {
      "displayName": "박희진",
      "photoUrl": "https://lh3.googleusercontent.com/a-/AOh14GjEM1h4_jlaIbqsJqo5PlhcC4bBQIxlt5_Z7Y_oGg=s64",
      "userId": "04727579243057026808"
     },
     "user_tz": -540
    },
    "id": "5dhecI6k0a3J",
    "outputId": "40f15a03-aca3-4869-f25c-cee0d330ea7b"
   },
   "outputs": [
    {
     "data": {
      "text/plain": [
       "LinearRegression()"
      ]
     },
     "execution_count": 8,
     "metadata": {},
     "output_type": "execute_result"
    }
   ],
   "source": [
    "model"
   ]
  },
  {
   "cell_type": "code",
   "execution_count": 9,
   "metadata": {
    "colab": {
     "base_uri": "https://localhost:8080/"
    },
    "executionInfo": {
     "elapsed": 616,
     "status": "ok",
     "timestamp": 1605501716668,
     "user": {
      "displayName": "박희진",
      "photoUrl": "https://lh3.googleusercontent.com/a-/AOh14GjEM1h4_jlaIbqsJqo5PlhcC4bBQIxlt5_Z7Y_oGg=s64",
      "userId": "04727579243057026808"
     },
     "user_tz": -540
    },
    "id": "m9eilQAYI8W2",
    "outputId": "e4a5151f-13a7-474c-9561-7178bf6feaea"
   },
   "outputs": [
    {
     "data": {
      "text/plain": [
       "LinearRegression()"
      ]
     },
     "execution_count": 9,
     "metadata": {},
     "output_type": "execute_result"
    }
   ],
   "source": [
    "# 학습\n",
    "model.fit(x, y)\n",
    "# x : 문제\n",
    "# y : 결과\n",
    "# (X_train, Y_train)"
   ]
  },
  {
   "cell_type": "code",
   "execution_count": 10,
   "metadata": {},
   "outputs": [
    {
     "name": "stdout",
     "output_type": "stream",
     "text": [
      "[[0]\n",
      " [1]\n",
      " [2]\n",
      " [3]\n",
      " [4]\n",
      " [5]\n",
      " [6]\n",
      " [7]\n",
      " [8]\n",
      " [9]]\n",
      "[[ 1]\n",
      " [ 3]\n",
      " [ 5]\n",
      " [ 7]\n",
      " [ 9]\n",
      " [11]\n",
      " [13]\n",
      " [15]\n",
      " [17]\n",
      " [19]]\n"
     ]
    }
   ],
   "source": [
    "print(x)\n",
    "print(y)"
   ]
  },
  {
   "cell_type": "code",
   "execution_count": 11,
   "metadata": {
    "colab": {
     "base_uri": "https://localhost:8080/",
     "height": 320
    },
    "executionInfo": {
     "elapsed": 586,
     "status": "error",
     "timestamp": 1605501964586,
     "user": {
      "displayName": "박희진",
      "photoUrl": "https://lh3.googleusercontent.com/a-/AOh14GjEM1h4_jlaIbqsJqo5PlhcC4bBQIxlt5_Z7Y_oGg=s64",
      "userId": "04727579243057026808"
     },
     "user_tz": -540
    },
    "id": "06JEQA_bI9mz",
    "outputId": "d5c0181e-b6b0-450b-fd26-cf28f67eefa1"
   },
   "outputs": [],
   "source": [
    "# 예측\n",
    "prediction = model.predict([[10.0]])"
   ]
  },
  {
   "cell_type": "code",
   "execution_count": 12,
   "metadata": {},
   "outputs": [
    {
     "data": {
      "text/plain": [
       "array([[21.]])"
      ]
     },
     "execution_count": 12,
     "metadata": {},
     "output_type": "execute_result"
    }
   ],
   "source": [
    "prediction"
   ]
  },
  {
   "cell_type": "code",
   "execution_count": 13,
   "metadata": {
    "executionInfo": {
     "elapsed": 570,
     "status": "ok",
     "timestamp": 1605501795126,
     "user": {
      "displayName": "박희진",
      "photoUrl": "https://lh3.googleusercontent.com/a-/AOh14GjEM1h4_jlaIbqsJqo5PlhcC4bBQIxlt5_Z7Y_oGg=s64",
      "userId": "04727579243057026808"
     },
     "user_tz": -540
    },
    "id": "8QZmErdXXN7U"
   },
   "outputs": [],
   "source": [
    "prediction = model.predict([[215.0]])"
   ]
  },
  {
   "cell_type": "code",
   "execution_count": 14,
   "metadata": {
    "colab": {
     "base_uri": "https://localhost:8080/"
    },
    "executionInfo": {
     "elapsed": 599,
     "status": "ok",
     "timestamp": 1605501798210,
     "user": {
      "displayName": "박희진",
      "photoUrl": "https://lh3.googleusercontent.com/a-/AOh14GjEM1h4_jlaIbqsJqo5PlhcC4bBQIxlt5_Z7Y_oGg=s64",
      "userId": "04727579243057026808"
     },
     "user_tz": -540
    },
    "id": "2l_GkdT7JX8q",
    "outputId": "217675d5-1127-4fae-86ed-efd07f29e1ce"
   },
   "outputs": [
    {
     "data": {
      "text/plain": [
       "array([[431.]])"
      ]
     },
     "execution_count": 14,
     "metadata": {},
     "output_type": "execute_result"
    }
   ],
   "source": [
    "prediction"
   ]
  },
  {
   "cell_type": "code",
   "execution_count": null,
   "metadata": {
    "id": "c_61c-i-Jp85"
   },
   "outputs": [],
   "source": []
  }
 ],
 "metadata": {
  "colab": {
   "collapsed_sections": [],
   "name": "ex1_sklearn_start.ipynb",
   "provenance": []
  },
  "kernelspec": {
   "display_name": "Python 3",
   "language": "python",
   "name": "python3"
  },
  "language_info": {
   "codemirror_mode": {
    "name": "ipython",
    "version": 3
   },
   "file_extension": ".py",
   "mimetype": "text/x-python",
   "name": "python",
   "nbconvert_exporter": "python",
   "pygments_lexer": "ipython3",
   "version": "3.8.5"
  }
 },
 "nbformat": 4,
 "nbformat_minor": 4
}
