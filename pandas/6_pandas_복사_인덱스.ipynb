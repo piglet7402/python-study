{
  "nbformat": 4,
  "nbformat_minor": 0,
  "metadata": {
    "colab": {
      "name": "ch01-part10-실습예제3-해설",
      "provenance": [],
      "collapsed_sections": []
    },
    "kernelspec": {
      "name": "python3",
      "display_name": "Python 3"
    }
  },
  "cells": [
    {
      "cell_type": "code",
      "metadata": {
        "id": "wn5bqJ9PYkYK",
        "colab_type": "code",
        "colab": {}
      },
      "source": [
        "import pandas as pd"
      ],
      "execution_count": 0,
      "outputs": []
    },
    {
      "cell_type": "markdown",
      "metadata": {
        "id": "aozei8JpYmNC",
        "colab_type": "text"
      },
      "source": [
        "## 실습에 활용한 예제"
      ]
    },
    {
      "cell_type": "markdown",
      "metadata": {
        "id": "h9_3_cuwYpIy",
        "colab_type": "text"
      },
      "source": [
        "[국내 아이돌 평판지수 (csv)](http://bit.ly/ds-korean-idol)"
      ]
    },
    {
      "cell_type": "markdown",
      "metadata": {
        "id": "5q11zenIY6eq",
        "colab_type": "text"
      },
      "source": [
        "## DataFrame 로드"
      ]
    },
    {
      "cell_type": "code",
      "metadata": {
        "id": "whW8jFpvYfEC",
        "colab_type": "code",
        "colab": {}
      },
      "source": [
        "df = pd.read_csv('https://bit.ly/ds-korean-idol')"
      ],
      "execution_count": 0,
      "outputs": []
    },
    {
      "cell_type": "markdown",
      "metadata": {
        "id": "CMCICIVbdciN",
        "colab_type": "text"
      },
      "source": [
        "## 1. copy (복사)"
      ]
    },
    {
      "cell_type": "markdown",
      "metadata": {
        "id": "jSVKT5JidcZ4",
        "colab_type": "text"
      },
      "source": [
        "copy는 단어 그대로, dataframe을 복사할 때 사용합니다."
      ]
    },
    {
      "cell_type": "code",
      "metadata": {
        "id": "5k94J53odcTo",
        "colab_type": "code",
        "colab": {}
      },
      "source": [
        "df.head()"
      ],
      "execution_count": 0,
      "outputs": []
    },
    {
      "cell_type": "markdown",
      "metadata": {
        "id": "aARnn4PXeFCT",
        "colab_type": "text"
      },
      "source": [
        "df를 **새로운 변수(new_df)에 대입**해 주고, 새로운 변수에서 값을 바꾼다면, 원래의 DataFrame의 값은 어떻게 될까요?"
      ]
    },
    {
      "cell_type": "code",
      "metadata": {
        "id": "5VQPZIFhdr8_",
        "colab_type": "code",
        "colab": {}
      },
      "source": [
        "new_df = df"
      ],
      "execution_count": 0,
      "outputs": []
    },
    {
      "cell_type": "code",
      "metadata": {
        "id": "Qx4qot3FJSGI",
        "colab_type": "code",
        "colab": {}
      },
      "source": [
        "new_df.head()"
      ],
      "execution_count": 0,
      "outputs": []
    },
    {
      "cell_type": "code",
      "metadata": {
        "id": "kMFsdxY0dr3s",
        "colab_type": "code",
        "colab": {}
      },
      "source": [
        "new_df['이름'] = 0"
      ],
      "execution_count": 0,
      "outputs": []
    },
    {
      "cell_type": "code",
      "metadata": {
        "id": "8AJDB7H1JYB2",
        "colab_type": "code",
        "colab": {}
      },
      "source": [
        "new_df.head()"
      ],
      "execution_count": 0,
      "outputs": []
    },
    {
      "cell_type": "code",
      "metadata": {
        "id": "Diyfc9jdd1DT",
        "colab_type": "code",
        "colab": {}
      },
      "source": [
        "df.head()"
      ],
      "execution_count": 0,
      "outputs": []
    },
    {
      "cell_type": "markdown",
      "metadata": {
        "id": "cUTGBAFVd09Z",
        "colab_type": "text"
      },
      "source": [
        "이렇게 되는 이유는 같은 메모리 주소를 참조하기 때문입니다."
      ]
    },
    {
      "cell_type": "code",
      "metadata": {
        "id": "37cgGdsPeaFU",
        "colab_type": "code",
        "colab": {}
      },
      "source": [
        "hex(id(new_df))"
      ],
      "execution_count": 0,
      "outputs": []
    },
    {
      "cell_type": "code",
      "metadata": {
        "id": "tHf3ok8jd03k",
        "colab_type": "code",
        "colab": {}
      },
      "source": [
        "hex(id(df))"
      ],
      "execution_count": 0,
      "outputs": []
    },
    {
      "cell_type": "markdown",
      "metadata": {
        "id": "kB9w_6ZDdcNS",
        "colab_type": "text"
      },
      "source": [
        "굉장히 많은 분들이 실수를 하시는 부분입니다.\n",
        "\n",
        "**원본 데이터를 유지 시키고, 새로운 변수에 복사할 때는 copy()를 사용해 주세요**"
      ]
    },
    {
      "cell_type": "code",
      "metadata": {
        "id": "35dDWJFce5aY",
        "colab_type": "code",
        "colab": {}
      },
      "source": [
        "df = pd.read_csv('https://bit.ly/ds-korean-idol')"
      ],
      "execution_count": 0,
      "outputs": []
    },
    {
      "cell_type": "code",
      "metadata": {
        "id": "Fis_cBXre13k",
        "colab_type": "code",
        "colab": {}
      },
      "source": [
        "copy_df = df.copy()"
      ],
      "execution_count": 0,
      "outputs": []
    },
    {
      "cell_type": "code",
      "metadata": {
        "id": "DyWwUyGXe8iH",
        "colab_type": "code",
        "colab": {}
      },
      "source": [
        "hex(id(df))"
      ],
      "execution_count": 0,
      "outputs": []
    },
    {
      "cell_type": "code",
      "metadata": {
        "id": "wGb1wL4Ye8b_",
        "colab_type": "code",
        "colab": {}
      },
      "source": [
        "hex(id(copy_df))"
      ],
      "execution_count": 0,
      "outputs": []
    },
    {
      "cell_type": "code",
      "metadata": {
        "id": "1vc5_iYcfDl4",
        "colab_type": "code",
        "colab": {}
      },
      "source": [
        "df.head()"
      ],
      "execution_count": 0,
      "outputs": []
    },
    {
      "cell_type": "code",
      "metadata": {
        "id": "ZlaadeGkfDfx",
        "colab_type": "code",
        "colab": {}
      },
      "source": [
        "copy_df.head()"
      ],
      "execution_count": 0,
      "outputs": []
    },
    {
      "cell_type": "code",
      "metadata": {
        "id": "BfTd748CfG54",
        "colab_type": "code",
        "colab": {}
      },
      "source": [
        "copy_df['이름'] = 0"
      ],
      "execution_count": 0,
      "outputs": []
    },
    {
      "cell_type": "code",
      "metadata": {
        "id": "v4WcTyGmfG0r",
        "colab_type": "code",
        "colab": {}
      },
      "source": [
        "copy_df.head()"
      ],
      "execution_count": 0,
      "outputs": []
    },
    {
      "cell_type": "code",
      "metadata": {
        "id": "rRjgO0UUdbnO",
        "colab_type": "code",
        "colab": {}
      },
      "source": [
        "df.head()"
      ],
      "execution_count": 0,
      "outputs": []
    },
    {
      "cell_type": "markdown",
      "metadata": {
        "id": "9R1oTsR8fQiz",
        "colab_type": "text"
      },
      "source": [
        "## 2. row, column 추가 및 삭제"
      ]
    },
    {
      "cell_type": "markdown",
      "metadata": {
        "id": "RqNOMOYlhTLv",
        "colab_type": "text"
      },
      "source": [
        "### 2-1. row의 추가"
      ]
    },
    {
      "cell_type": "code",
      "metadata": {
        "id": "D7JjRZLffQp2",
        "colab_type": "code",
        "colab": {}
      },
      "source": [
        "df.head()"
      ],
      "execution_count": 0,
      "outputs": []
    },
    {
      "cell_type": "markdown",
      "metadata": {
        "id": "Y1R4SZEOgrUz",
        "colab_type": "text"
      },
      "source": [
        "dictionary 형태의 데이터를 만들어 준다음 **append()** 함수를 사용하여 데이터를 추가할 수 있습니다. 반드시, **ignore_index=True** 옵션을 같이 추가해 주셔야 에러가 안납니다!"
      ]
    },
    {
      "cell_type": "code",
      "metadata": {
        "id": "OFn8MJb8fQli",
        "colab_type": "code",
        "colab": {}
      },
      "source": [
        "df.append({'이름': '테디', '그룹': '테디그룹', '소속사': '끝내주는소속사', '성별': '남자', '생년월일': '1970-01-01', '키': 195.0, '혈액형': 'O', '브랜드평판지수': 12345678}, ignore_index=True)"
      ],
      "execution_count": 0,
      "outputs": []
    },
    {
      "cell_type": "code",
      "metadata": {
        "id": "NA_xQxkTgMq4",
        "colab_type": "code",
        "colab": {}
      },
      "source": [
        "df.tail()"
      ],
      "execution_count": 0,
      "outputs": []
    },
    {
      "cell_type": "markdown",
      "metadata": {
        "id": "4QpzB2LyhHKt",
        "colab_type": "text"
      },
      "source": [
        "또한, append() 한 뒤 다시 df에 대입해줘야 변경한 값이 유지 됩니다."
      ]
    },
    {
      "cell_type": "code",
      "metadata": {
        "id": "gOdzjbWpg8Fw",
        "colab_type": "code",
        "colab": {}
      },
      "source": [
        "df = df.append({'이름': '테디', '그룹': '테디그룹', '소속사': '끝내주는소속사', '성별': '남자', '생년월일': '1970-01-01', '키': 195.0, '혈액형': 'O', '브랜드평판지수': 12345678}, ignore_index=True)"
      ],
      "execution_count": 0,
      "outputs": []
    },
    {
      "cell_type": "code",
      "metadata": {
        "id": "AdckIZhlhD-H",
        "colab_type": "code",
        "colab": {}
      },
      "source": [
        "df.tail()"
      ],
      "execution_count": 0,
      "outputs": []
    },
    {
      "cell_type": "markdown",
      "metadata": {
        "id": "2zylHZs0hV_B",
        "colab_type": "text"
      },
      "source": [
        "### 2-2. column 추가"
      ]
    },
    {
      "cell_type": "markdown",
      "metadata": {
        "id": "_oSo-nhKfQWU",
        "colab_type": "text"
      },
      "source": [
        "column 추가는 매우 쉽습니다. 단순히 새로운 column을 만들고 값을 대입해주면, 자동으로 생성합니다."
      ]
    },
    {
      "cell_type": "code",
      "metadata": {
        "id": "ZN-AECfzfQSR",
        "colab_type": "code",
        "colab": {}
      },
      "source": [
        "df.head()"
      ],
      "execution_count": 0,
      "outputs": []
    },
    {
      "cell_type": "code",
      "metadata": {
        "id": "ixNe4mnCLVr_",
        "colab_type": "code",
        "colab": {}
      },
      "source": [
        "df['국적'] = '대한민국'"
      ],
      "execution_count": 0,
      "outputs": []
    },
    {
      "cell_type": "code",
      "metadata": {
        "id": "R11rCl34hoF3",
        "colab_type": "code",
        "colab": {}
      },
      "source": [
        "df.head()"
      ],
      "execution_count": 0,
      "outputs": []
    },
    {
      "cell_type": "markdown",
      "metadata": {
        "id": "cWdGoo_thp3F",
        "colab_type": "text"
      },
      "source": [
        "전부 동일한 값이 추가 되면서, column도 추가된 것을 보실 수 있습니다."
      ]
    },
    {
      "cell_type": "markdown",
      "metadata": {
        "id": "qK2bcVjnhpwd",
        "colab_type": "text"
      },
      "source": [
        "만약, 값을 변경하고 싶다면, loc 함수를 활용해서 변경해 줄 수 있겠죠?"
      ]
    },
    {
      "cell_type": "code",
      "metadata": {
        "id": "hwdKo4AofMMh",
        "colab_type": "code",
        "colab": {}
      },
      "source": [
        "df.loc[ df['이름'] == '지드래곤' , '국적'] = 'korea'"
      ],
      "execution_count": 0,
      "outputs": []
    },
    {
      "cell_type": "code",
      "metadata": {
        "id": "zI3wGgKcfMFv",
        "colab_type": "code",
        "colab": {}
      },
      "source": [
        "df.head()"
      ],
      "execution_count": 0,
      "outputs": []
    },
    {
      "cell_type": "markdown",
      "metadata": {
        "id": "6wxsIUEsiMW_",
        "colab_type": "text"
      },
      "source": [
        "## 3. 통계값 다루기"
      ]
    },
    {
      "cell_type": "code",
      "metadata": {
        "id": "xKuRiZ7xL7N7",
        "colab_type": "code",
        "colab": {}
      },
      "source": [
        "df = pd.read_csv('https://bit.ly/ds-korean-idol')"
      ],
      "execution_count": 0,
      "outputs": []
    },
    {
      "cell_type": "markdown",
      "metadata": {
        "id": "QwJWYq0sM17z",
        "colab_type": "text"
      },
      "source": [
        "통계값은 data type이 float나 int형 인 column을 다룹니다"
      ]
    },
    {
      "cell_type": "code",
      "metadata": {
        "id": "eXIQtJuMMOjp",
        "colab_type": "code",
        "colab": {}
      },
      "source": [
        "df.head()"
      ],
      "execution_count": 0,
      "outputs": []
    },
    {
      "cell_type": "code",
      "metadata": {
        "id": "EK8esgUNMkda",
        "colab_type": "code",
        "colab": {}
      },
      "source": [
        "df.info()"
      ],
      "execution_count": 0,
      "outputs": []
    },
    {
      "cell_type": "code",
      "metadata": {
        "id": "D7ZBkw4GM28R",
        "colab_type": "code",
        "colab": {}
      },
      "source": [
        "df.describe()"
      ],
      "execution_count": 0,
      "outputs": []
    },
    {
      "cell_type": "markdown",
      "metadata": {
        "id": "nJJYmC0iiXBQ",
        "colab_type": "text"
      },
      "source": [
        "### 3-1. min(최소값), max(최대값)"
      ]
    },
    {
      "cell_type": "markdown",
      "metadata": {
        "id": "wKwVqTiNMwON",
        "colab_type": "text"
      },
      "source": [
        "통계값은 data type이 float나 int형 인 column을 다룹니다"
      ]
    },
    {
      "cell_type": "code",
      "metadata": {
        "id": "8Z2jUrkGiXF_",
        "colab_type": "code",
        "colab": {}
      },
      "source": [
        "df['키'].min()"
      ],
      "execution_count": 0,
      "outputs": []
    },
    {
      "cell_type": "code",
      "metadata": {
        "id": "dtWNwAREiXQ1",
        "colab_type": "code",
        "colab": {}
      },
      "source": [
        "df['키'].max()"
      ],
      "execution_count": 0,
      "outputs": []
    },
    {
      "cell_type": "markdown",
      "metadata": {
        "id": "4rmemM--iXSG",
        "colab_type": "text"
      },
      "source": [
        "### 3-2. sum (합계), mean (평균)"
      ]
    },
    {
      "cell_type": "code",
      "metadata": {
        "id": "MxyCeyijP8ie",
        "colab_type": "code",
        "colab": {}
      },
      "source": [
        "df['키'].sum()"
      ],
      "execution_count": 0,
      "outputs": []
    },
    {
      "cell_type": "code",
      "metadata": {
        "id": "kDNPVpbsiXW-",
        "colab_type": "code",
        "colab": {}
      },
      "source": [
        "df['키'].mean()"
      ],
      "execution_count": 0,
      "outputs": []
    },
    {
      "cell_type": "markdown",
      "metadata": {
        "id": "sm2egqSFNHKQ",
        "colab_type": "text"
      },
      "source": [
        "### 3-3. var, variance(분산) / std, standard deviation (표준 편차)"
      ]
    },
    {
      "cell_type": "markdown",
      "metadata": {
        "id": "kZNoa-hxNZxT",
        "colab_type": "text"
      },
      "source": [
        "* 분산과 표준편차는 데이터가 **평균으로부터 얼마나 떨어져 있는지 정도**를 나타냅니다.\n",
        "* 분산은 **(데이터 - 평균) ** 2 을 모두 합한 값** / n\n",
        "* 표준편차는 **분산의 루트**"
      ]
    },
    {
      "cell_type": "code",
      "metadata": {
        "id": "5Gb7DxkeNxMI",
        "colab_type": "code",
        "colab": {}
      },
      "source": [
        "import numpy as np"
      ],
      "execution_count": 0,
      "outputs": []
    },
    {
      "cell_type": "code",
      "metadata": {
        "id": "Soxiy1PVNqE5",
        "colab_type": "code",
        "colab": {}
      },
      "source": [
        "data_01 = np.array([1, 3, 5, 7, 9])\n",
        "data_02 = np.array([3, 4, 5, 6, 7])"
      ],
      "execution_count": 0,
      "outputs": []
    },
    {
      "cell_type": "code",
      "metadata": {
        "id": "ro2C5CTxODLz",
        "colab_type": "code",
        "colab": {}
      },
      "source": [
        "np.sqrt(((1-5)**2 + (3-5)**2 + (5-5)**2 + (7-5)**2 + (9-5)**2 ) / 5)"
      ],
      "execution_count": 0,
      "outputs": []
    },
    {
      "cell_type": "code",
      "metadata": {
        "id": "J4bDUkx1Npz1",
        "colab_type": "code",
        "colab": {}
      },
      "source": [
        "data_01.mean()"
      ],
      "execution_count": 0,
      "outputs": []
    },
    {
      "cell_type": "code",
      "metadata": {
        "id": "pF19ky3oN7TT",
        "colab_type": "code",
        "colab": {}
      },
      "source": [
        "data_02.mean()"
      ],
      "execution_count": 0,
      "outputs": []
    },
    {
      "cell_type": "code",
      "metadata": {
        "id": "aL7mj6O4O1C6",
        "colab_type": "code",
        "colab": {}
      },
      "source": [
        "data_01.var(), data_02.var()"
      ],
      "execution_count": 0,
      "outputs": []
    },
    {
      "cell_type": "code",
      "metadata": {
        "id": "i5wDFzM3O2zy",
        "colab_type": "code",
        "colab": {}
      },
      "source": [
        "np.sqrt(data_01.var()), np.sqrt(data_02.var())"
      ],
      "execution_count": 0,
      "outputs": []
    },
    {
      "cell_type": "code",
      "metadata": {
        "id": "QmX9zxNxN-w1",
        "colab_type": "code",
        "colab": {}
      },
      "source": [
        "data_01.std(), data_02.std()"
      ],
      "execution_count": 0,
      "outputs": []
    },
    {
      "cell_type": "markdown",
      "metadata": {
        "id": "X3Bj4FATPDV7",
        "colab_type": "text"
      },
      "source": [
        "주로 표준편자 (std)를 많이 사용하며, **데이터가 평균으로부터 얼마나 퍼져있는지 정도를 나타내는 지표라고 이해**하시면 됩니다."
      ]
    },
    {
      "cell_type": "code",
      "metadata": {
        "id": "bAvvUdFhPDNA",
        "colab_type": "code",
        "colab": {}
      },
      "source": [
        "df['키'].var()"
      ],
      "execution_count": 0,
      "outputs": []
    },
    {
      "cell_type": "code",
      "metadata": {
        "id": "VS62iHleiXh0",
        "colab_type": "code",
        "colab": {}
      },
      "source": [
        "df['키'].std()"
      ],
      "execution_count": 0,
      "outputs": []
    },
    {
      "cell_type": "markdown",
      "metadata": {
        "id": "wShdK-FwiXjw",
        "colab_type": "text"
      },
      "source": [
        "### 3-4. 갯수를 세는 count"
      ]
    },
    {
      "cell_type": "code",
      "metadata": {
        "id": "VkbaDy-IiXcc",
        "colab_type": "code",
        "colab": {}
      },
      "source": [
        "df['키'].count()"
      ],
      "execution_count": 0,
      "outputs": []
    },
    {
      "cell_type": "markdown",
      "metadata": {
        "id": "UoCL5mCaS15c",
        "colab_type": "text"
      },
      "source": [
        "### 3.5. 중앙값"
      ]
    },
    {
      "cell_type": "code",
      "metadata": {
        "id": "xNCspptqOk0f",
        "colab_type": "code",
        "colab": {}
      },
      "source": [
        "df['키'].median()"
      ],
      "execution_count": 0,
      "outputs": []
    },
    {
      "cell_type": "markdown",
      "metadata": {
        "id": "9q2AcpGZOqBM",
        "colab_type": "text"
      },
      "source": [
        "### 3.6. 최빈값 (mode)"
      ]
    },
    {
      "cell_type": "code",
      "metadata": {
        "id": "pFUyNNo2O891",
        "colab_type": "code",
        "colab": {}
      },
      "source": [
        "df['키'].mode()"
      ],
      "execution_count": 0,
      "outputs": []
    },
    {
      "cell_type": "markdown",
      "metadata": {
        "id": "52cqG2daS1_8",
        "colab_type": "text"
      },
      "source": [
        "## 4. 피벗테이블 (pivot_table)"
      ]
    },
    {
      "cell_type": "markdown",
      "metadata": {
        "id": "Ta89HeCUS1xa",
        "colab_type": "text"
      },
      "source": [
        "* 피벗테이블은 엑셀의 피벗테이블과 동일합니다.\n",
        "* 데이터 열 중에서 **두 개의 열을 각각 행 인덱스, 열 인덱스로 사용**하여 데이터를 조회하여 펼쳐놓은 것을 의미합니다.\n",
        "* 왼쪽에 나타나는 인덱스를 **행 인덱스, 상단에 나타나는 인덱스를 열 인덱스**라고 부릅니다."
      ]
    },
    {
      "cell_type": "code",
      "metadata": {
        "id": "JvOqxSxkQAty",
        "colab_type": "code",
        "colab": {}
      },
      "source": [
        "df.head()"
      ],
      "execution_count": 0,
      "outputs": []
    },
    {
      "cell_type": "code",
      "metadata": {
        "id": "rfQlvojRRao9",
        "colab_type": "code",
        "colab": {}
      },
      "source": [
        "pd.pivot_table(df, index='소속사', columns='혈액형', values='키')"
      ],
      "execution_count": 0,
      "outputs": []
    },
    {
      "cell_type": "code",
      "metadata": {
        "id": "WKOav4RlRDN6",
        "colab_type": "code",
        "colab": {}
      },
      "source": [
        "# index는 행 인덱스\n",
        "# columns는 열 인덱스\n",
        "# values는 조회하고 싶은 값\n",
        "pd.pivot_table(df, index='소속사', columns='혈액형', values='키')"
      ],
      "execution_count": 0,
      "outputs": []
    },
    {
      "cell_type": "code",
      "metadata": {
        "id": "ApcCRp5ARDGQ",
        "colab_type": "code",
        "colab": {}
      },
      "source": [
        "# aggfunc에는 추가 계산 옵션 (np.sum, np.mean) - 기본값은 평균\n",
        "pd.pivot_table(df, index='그룹', columns='혈액형', values='브랜드평판지수', aggfunc=np.mean)"
      ],
      "execution_count": 0,
      "outputs": []
    },
    {
      "cell_type": "markdown",
      "metadata": {
        "id": "_RSyhj7EQAvY",
        "colab_type": "text"
      },
      "source": [
        "## 5. GroupBy (그룹으로 묶어 보기)"
      ]
    },
    {
      "cell_type": "markdown",
      "metadata": {
        "id": "zPP5YmoYQQz2",
        "colab_type": "text"
      },
      "source": [
        "* groupby는 데이터를 **그룹으로 묶어 분석**할 때 활용합니다.\n",
        "* **소속사**별 키의 평균, **성별** 키의 평균 등 특정, 그룹별 통계 및 데이터의 성질을 확인하고자 할 때 활용합니다."
      ]
    },
    {
      "cell_type": "code",
      "metadata": {
        "id": "iQ2t7pDfQKxi",
        "colab_type": "code",
        "colab": {}
      },
      "source": [
        "df.head()"
      ],
      "execution_count": 0,
      "outputs": []
    },
    {
      "cell_type": "code",
      "metadata": {
        "id": "vL1Hk258UZUu",
        "colab_type": "code",
        "colab": {}
      },
      "source": [
        "df.groupby('소속사')"
      ],
      "execution_count": 0,
      "outputs": []
    },
    {
      "cell_type": "markdown",
      "metadata": {
        "id": "96eL0Rd8Uc2e",
        "colab_type": "text"
      },
      "source": [
        "groupby와 함께 \n",
        "\n",
        "* count() - 갯수\n",
        "* sum() - 합계\n",
        "* mean() - 평균\n",
        "* var() - 분산\n",
        "* std() - 표준편차\n",
        "* min()/max() - 최소값, 최대값\n",
        "\n"
      ]
    },
    {
      "cell_type": "code",
      "metadata": {
        "id": "QfXPD3bHQA1c",
        "colab_type": "code",
        "colab": {}
      },
      "source": [
        "df.groupby('소속사').count()"
      ],
      "execution_count": 0,
      "outputs": []
    },
    {
      "cell_type": "markdown",
      "metadata": {
        "id": "8buEDB_EUT5k",
        "colab_type": "text"
      },
      "source": [
        "산술 통계는 자동으로 산술통계가 가능한 열만 출력됩니다."
      ]
    },
    {
      "cell_type": "code",
      "metadata": {
        "id": "fs30XYJGQA-4",
        "colab_type": "code",
        "colab": {}
      },
      "source": [
        "df.groupby('그룹').mean()"
      ],
      "execution_count": 0,
      "outputs": []
    },
    {
      "cell_type": "code",
      "metadata": {
        "id": "vNa7oubZQA7G",
        "colab_type": "code",
        "colab": {}
      },
      "source": [
        "df.groupby('성별').sum()"
      ],
      "execution_count": 0,
      "outputs": []
    },
    {
      "cell_type": "markdown",
      "metadata": {
        "id": "akiXofI3QAlE",
        "colab_type": "text"
      },
      "source": [
        "특정 열만 출력하고 싶다면?"
      ]
    },
    {
      "cell_type": "code",
      "metadata": {
        "id": "6yxaNxKcTJ2C",
        "colab_type": "code",
        "colab": {}
      },
      "source": [
        "df.groupby('혈액형')['키'].mean()"
      ],
      "execution_count": 0,
      "outputs": []
    },
    {
      "cell_type": "markdown",
      "metadata": {
        "id": "784YxwLKVOHe",
        "colab_type": "text"
      },
      "source": [
        "## 6. Multi-Index(복합 인덱스)"
      ]
    },
    {
      "cell_type": "markdown",
      "metadata": {
        "id": "MF_RYOWqXCbP",
        "colab_type": "text"
      },
      "source": [
        "### 6-1. Multi-Index 적용"
      ]
    },
    {
      "cell_type": "markdown",
      "metadata": {
        "id": "xtfezNZdVlPY",
        "colab_type": "text"
      },
      "source": [
        "행 인덱스를 복합적으로 구성하고 싶은 경우는 인덱스를 리스트로 만들어 줍니다."
      ]
    },
    {
      "cell_type": "code",
      "metadata": {
        "id": "AdWWcFC2VOJW",
        "colab_type": "code",
        "colab": {}
      },
      "source": [
        "df.groupby(['혈액형', '성별']).mean()"
      ],
      "execution_count": 0,
      "outputs": []
    },
    {
      "cell_type": "markdown",
      "metadata": {
        "id": "mwNcI_uLW6in",
        "colab_type": "text"
      },
      "source": [
        "### 6-2. Multi-Index 데이터 프레임을 피벗 테이블로 변환"
      ]
    },
    {
      "cell_type": "markdown",
      "metadata": {
        "id": "jvxspk5wWYyy",
        "colab_type": "text"
      },
      "source": [
        "Multi-Index로 된 데이터프레임을 피벗테이블 형태로 다시 변환해 줄 수 있습니다."
      ]
    },
    {
      "cell_type": "code",
      "metadata": {
        "id": "ja4_Byq4VOR0",
        "colab_type": "code",
        "colab": {}
      },
      "source": [
        "df2 = df.groupby(['혈액형', '성별']).mean()"
      ],
      "execution_count": 0,
      "outputs": []
    },
    {
      "cell_type": "code",
      "metadata": {
        "id": "nUvs_JXdVOUy",
        "colab_type": "code",
        "colab": {}
      },
      "source": [
        "df2"
      ],
      "execution_count": 0,
      "outputs": []
    },
    {
      "cell_type": "code",
      "metadata": {
        "id": "T6dCIfQOVOk3",
        "colab_type": "code",
        "colab": {}
      },
      "source": [
        "df2.unstack('혈액형')"
      ],
      "execution_count": 0,
      "outputs": []
    },
    {
      "cell_type": "code",
      "metadata": {
        "id": "0gOzRrkHVObv",
        "colab_type": "code",
        "colab": {}
      },
      "source": [
        "df2.unstack('성별')"
      ],
      "execution_count": 0,
      "outputs": []
    },
    {
      "cell_type": "markdown",
      "metadata": {
        "id": "z0GukEDMW5D2",
        "colab_type": "text"
      },
      "source": [
        "### 6-3. 인덱스 초기화 (reset_index)"
      ]
    },
    {
      "cell_type": "markdown",
      "metadata": {
        "id": "9yyz_rawWrO0",
        "colab_type": "text"
      },
      "source": [
        "reset_index() 는 Multi-Index로 구성된 데이터 프레임의 **인덱스를 초기화**해 줍니다."
      ]
    },
    {
      "cell_type": "code",
      "metadata": {
        "id": "KTAYxNIYUW4j",
        "colab_type": "code",
        "colab": {}
      },
      "source": [
        "df2"
      ],
      "execution_count": 0,
      "outputs": []
    },
    {
      "cell_type": "code",
      "metadata": {
        "id": "sVpEdDeqWmCq",
        "colab_type": "code",
        "colab": {}
      },
      "source": [
        "df2 = df2.reset_index()"
      ],
      "execution_count": 0,
      "outputs": []
    },
    {
      "cell_type": "code",
      "metadata": {
        "id": "-S_8sHfdVNza",
        "colab_type": "code",
        "colab": {}
      },
      "source": [
        "df2"
      ],
      "execution_count": 0,
      "outputs": []
    }
  ]
}