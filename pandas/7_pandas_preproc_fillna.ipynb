{
  "nbformat": 4,
  "nbformat_minor": 0,
  "metadata": {
    "colab": {
      "name": "ch02-part1-데이터전처리-실습예제1-해설",
      "provenance": [],
      "collapsed_sections": []
    },
    "kernelspec": {
      "name": "python3",
      "display_name": "Python 3"
    }
  },
  "cells": [
    {
      "cell_type": "code",
      "metadata": {
        "id": "fPWyPCVLXdUK",
        "colab_type": "code",
        "colab": {}
      },
      "source": [
        "import pandas as pd"
      ],
      "execution_count": 0,
      "outputs": []
    },
    {
      "cell_type": "markdown",
      "metadata": {
        "id": "ZNcuFvx4XmQR",
        "colab_type": "text"
      },
      "source": [
        "## 실습에 활용한 예제"
      ]
    },
    {
      "cell_type": "markdown",
      "metadata": {
        "id": "kyYARHwpXoYI",
        "colab_type": "text"
      },
      "source": [
        "[국내 아이돌 평판지수 (csv)](http://bit.ly/ds-korean-idol)"
      ]
    },
    {
      "cell_type": "code",
      "metadata": {
        "id": "NVB5AnS9Xq7p",
        "colab_type": "code",
        "colab": {}
      },
      "source": [
        ""
      ],
      "execution_count": 0,
      "outputs": []
    },
    {
      "cell_type": "markdown",
      "metadata": {
        "id": "54o57KVmXs_c",
        "colab_type": "text"
      },
      "source": [
        "## DataFrame 로드"
      ]
    },
    {
      "cell_type": "code",
      "metadata": {
        "id": "oAWwK1jEXtiN",
        "colab_type": "code",
        "colab": {}
      },
      "source": [
        "df = pd.read_csv('https://bit.ly/ds-korean-idol')"
      ],
      "execution_count": 0,
      "outputs": []
    },
    {
      "cell_type": "code",
      "metadata": {
        "id": "fG2XU2V6Xvju",
        "colab_type": "code",
        "colab": {}
      },
      "source": [
        ""
      ],
      "execution_count": 0,
      "outputs": []
    },
    {
      "cell_type": "markdown",
      "metadata": {
        "id": "9oteWh0_XzH2",
        "colab_type": "text"
      },
      "source": [
        "## 1. 결측값을 채워주는 fillna"
      ]
    },
    {
      "cell_type": "markdown",
      "metadata": {
        "id": "EG71Mf7VX0C2",
        "colab_type": "text"
      },
      "source": [
        "**fillna()**: na 값에 대하여 fill해주는 함수입니다."
      ]
    },
    {
      "cell_type": "code",
      "metadata": {
        "id": "qHvJMDM3X2OS",
        "colab_type": "code",
        "colab": {}
      },
      "source": [
        "df.info()"
      ],
      "execution_count": 0,
      "outputs": []
    },
    {
      "cell_type": "markdown",
      "metadata": {
        "id": "ASpERhZxYBJp",
        "colab_type": "text"
      },
      "source": [
        "키에 2개의 데이터가 누락, 그룹에 1개의 데이터가 누락된 것을 확인할 수 있습니다."
      ]
    },
    {
      "cell_type": "markdown",
      "metadata": {
        "id": "U5XaWD7RX6Sx",
        "colab_type": "text"
      },
      "source": [
        "먼저, 키가 없는 사람은 존재할 수 없기 떄문에, 데이터가 잘 못 되어 있다는 것을 표기 하기 위하여, **누락된 데이터를 -1로 채워** 보도록 하겠습니다."
      ]
    },
    {
      "cell_type": "code",
      "metadata": {
        "id": "Mup1DQPlYWd9",
        "colab_type": "code",
        "colab": {}
      },
      "source": [
        "df['키']"
      ],
      "execution_count": 0,
      "outputs": []
    },
    {
      "cell_type": "code",
      "metadata": {
        "id": "LtNyT0JnYSjO",
        "colab_type": "code",
        "colab": {}
      },
      "source": [
        "df['키'].fillna(-1)"
      ],
      "execution_count": 0,
      "outputs": []
    },
    {
      "cell_type": "markdown",
      "metadata": {
        "id": "qnz2gnoeYU3h",
        "colab_type": "text"
      },
      "source": [
        "NaN 값이 -1로 바뀐 것을 확인할 수 있습니다."
      ]
    },
    {
      "cell_type": "markdown",
      "metadata": {
        "id": "cBiY3L3UYgue",
        "colab_type": "text"
      },
      "source": [
        "하지만, 키의 NaN 값을 채워준다음 유지시키려면 **inplace=True** 옵션을 주거나, fillna로 **채워 준 값을 다시 대입**해 주어야 합니다."
      ]
    },
    {
      "cell_type": "code",
      "metadata": {
        "id": "3mZxMtjEYfSf",
        "colab_type": "code",
        "colab": {}
      },
      "source": [
        "df2 = df.copy()"
      ],
      "execution_count": 0,
      "outputs": []
    },
    {
      "cell_type": "code",
      "metadata": {
        "id": "zV8at0b6WKiT",
        "colab_type": "code",
        "colab": {}
      },
      "source": [
        "df2"
      ],
      "execution_count": 0,
      "outputs": []
    },
    {
      "cell_type": "code",
      "metadata": {
        "id": "SAEaS9KYYf_t",
        "colab_type": "code",
        "colab": {}
      },
      "source": [
        "df2['키'].fillna(-1, inplace=True)"
      ],
      "execution_count": 0,
      "outputs": []
    },
    {
      "cell_type": "code",
      "metadata": {
        "id": "Lvd8ft7HY0N_",
        "colab_type": "code",
        "colab": {}
      },
      "source": [
        "df2['키']"
      ],
      "execution_count": 0,
      "outputs": []
    },
    {
      "cell_type": "markdown",
      "metadata": {
        "id": "LGJTqPNbZN07",
        "colab_type": "text"
      },
      "source": [
        "이젠 유지가 됩니다. 하지만, 저는 **fillna로 채워준 값을 다시 대입 해 주는 방식을 추천**드립니다."
      ]
    },
    {
      "cell_type": "code",
      "metadata": {
        "id": "X7k82JWXZUpv",
        "colab_type": "code",
        "colab": {}
      },
      "source": [
        "df2 = df.copy()"
      ],
      "execution_count": 0,
      "outputs": []
    },
    {
      "cell_type": "code",
      "metadata": {
        "id": "pn8VkYXAZV24",
        "colab_type": "code",
        "colab": {}
      },
      "source": [
        "df2['키']"
      ],
      "execution_count": 0,
      "outputs": []
    },
    {
      "cell_type": "code",
      "metadata": {
        "id": "ejp4vax_ZYoA",
        "colab_type": "code",
        "colab": {}
      },
      "source": [
        "df2['키'] = df2['키'].fillna(-1)"
      ],
      "execution_count": 0,
      "outputs": []
    },
    {
      "cell_type": "code",
      "metadata": {
        "id": "jEcIVHUaZWTL",
        "colab_type": "code",
        "colab": {}
      },
      "source": [
        "df2['키']"
      ],
      "execution_count": 0,
      "outputs": []
    },
    {
      "cell_type": "code",
      "metadata": {
        "id": "3YD2OUuzWgdB",
        "colab_type": "code",
        "colab": {}
      },
      "source": [
        ""
      ],
      "execution_count": 0,
      "outputs": []
    },
    {
      "cell_type": "code",
      "metadata": {
        "id": "sUNa90VHWgRx",
        "colab_type": "code",
        "colab": {}
      },
      "source": [
        "df2 = df.copy()"
      ],
      "execution_count": 0,
      "outputs": []
    },
    {
      "cell_type": "code",
      "metadata": {
        "id": "B9jnpTrgZdap",
        "colab_type": "code",
        "colab": {}
      },
      "source": [
        "df2"
      ],
      "execution_count": 0,
      "outputs": []
    },
    {
      "cell_type": "code",
      "metadata": {
        "id": "IshgPWq_WlnV",
        "colab_type": "code",
        "colab": {}
      },
      "source": [
        "df2['키']"
      ],
      "execution_count": 0,
      "outputs": []
    },
    {
      "cell_type": "code",
      "metadata": {
        "id": "NNKRPm7MWnOC",
        "colab_type": "code",
        "colab": {}
      },
      "source": [
        "height = df2['키'].mode()"
      ],
      "execution_count": 0,
      "outputs": []
    },
    {
      "cell_type": "code",
      "metadata": {
        "id": "4VpLV0eLWnKT",
        "colab_type": "code",
        "colab": {}
      },
      "source": [
        "df2['키'].fillna(height, inplace=True)"
      ],
      "execution_count": 0,
      "outputs": []
    },
    {
      "cell_type": "code",
      "metadata": {
        "id": "ohi8XK-tWnES",
        "colab_type": "code",
        "colab": {}
      },
      "source": [
        "df2['키']"
      ],
      "execution_count": 0,
      "outputs": []
    },
    {
      "cell_type": "code",
      "metadata": {
        "id": "obQT5JUiWnAQ",
        "colab_type": "code",
        "colab": {}
      },
      "source": [
        ""
      ],
      "execution_count": 0,
      "outputs": []
    },
    {
      "cell_type": "code",
      "metadata": {
        "id": "pUOlXePZWm7b",
        "colab_type": "code",
        "colab": {}
      },
      "source": [
        ""
      ],
      "execution_count": 0,
      "outputs": []
    },
    {
      "cell_type": "markdown",
      "metadata": {
        "id": "0hEhN2OMZkBH",
        "colab_type": "text"
      },
      "source": [
        "## 2. 빈 값(NaN)이 있는 행을 제거"
      ]
    },
    {
      "cell_type": "markdown",
      "metadata": {
        "id": "6jqvswdpZkH9",
        "colab_type": "text"
      },
      "source": [
        "1번 STEP에서 fillna 메소드를 활용하여 값을 채워 주었습니다. 이번에는 빈값이 있는 행을 제거하는 방법을 알아보도록 하겠습니다."
      ]
    },
    {
      "cell_type": "code",
      "metadata": {
        "id": "1raYCyYRZweY",
        "colab_type": "code",
        "colab": {}
      },
      "source": [
        "df.info()"
      ],
      "execution_count": 0,
      "outputs": []
    },
    {
      "cell_type": "code",
      "metadata": {
        "id": "7Lf0wytIZ0to",
        "colab_type": "code",
        "colab": {}
      },
      "source": [
        "df"
      ],
      "execution_count": 0,
      "outputs": []
    },
    {
      "cell_type": "code",
      "metadata": {
        "id": "gekv2AZEZ26Y",
        "colab_type": "code",
        "colab": {}
      },
      "source": [
        "df.dropna()"
      ],
      "execution_count": 0,
      "outputs": []
    },
    {
      "cell_type": "markdown",
      "metadata": {
        "id": "Etzxhlf0Z5LF",
        "colab_type": "text"
      },
      "source": [
        "dropna()는 몇가지 옵션을 추가할 수 있습니다."
      ]
    },
    {
      "cell_type": "markdown",
      "metadata": {
        "id": "Me_rM3HuaF6k",
        "colab_type": "text"
      },
      "source": [
        "### 2-1. axis (열/ 행을 드랍)"
      ]
    },
    {
      "cell_type": "markdown",
      "metadata": {
        "id": "5vJUOLxQaN1Q",
        "colab_type": "text"
      },
      "source": [
        "axis=0은 행을 드랍합니다."
      ]
    },
    {
      "cell_type": "code",
      "metadata": {
        "id": "Zcx_DH3RaJwR",
        "colab_type": "code",
        "colab": {}
      },
      "source": [
        "df.dropna(axis=0)"
      ],
      "execution_count": 0,
      "outputs": []
    },
    {
      "cell_type": "markdown",
      "metadata": {
        "id": "5N-lu9XmaLnx",
        "colab_type": "text"
      },
      "source": [
        "axis=1은 열을 드랍합니다."
      ]
    },
    {
      "cell_type": "code",
      "metadata": {
        "id": "2i0wlBJ7aUDI",
        "colab_type": "code",
        "colab": {}
      },
      "source": [
        "df.dropna(axis=1)"
      ],
      "execution_count": 0,
      "outputs": []
    },
    {
      "cell_type": "code",
      "metadata": {
        "id": "uLm2BmFcaTTC",
        "colab_type": "code",
        "colab": {}
      },
      "source": [
        ""
      ],
      "execution_count": 0,
      "outputs": []
    },
    {
      "cell_type": "markdown",
      "metadata": {
        "id": "gE6cGD_8aXlf",
        "colab_type": "text"
      },
      "source": [
        "### 2-2. how옵션 - 'any': 한개라도 있는 경우 드랍, 'all'은 모두 NaN인 경우 드랍"
      ]
    },
    {
      "cell_type": "code",
      "metadata": {
        "id": "giweY73uYI5U",
        "colab_type": "code",
        "colab": {}
      },
      "source": [
        "df.dropna()"
      ],
      "execution_count": 0,
      "outputs": []
    },
    {
      "cell_type": "code",
      "metadata": {
        "id": "u2umBPT0aiIf",
        "colab_type": "code",
        "colab": {}
      },
      "source": [
        "df.dropna(axis=0, how='any')"
      ],
      "execution_count": 0,
      "outputs": []
    },
    {
      "cell_type": "code",
      "metadata": {
        "id": "McQjj7Aqam1Y",
        "colab_type": "code",
        "colab": {}
      },
      "source": [
        "df.dropna(axis=0, how='all')"
      ],
      "execution_count": 0,
      "outputs": []
    },
    {
      "cell_type": "code",
      "metadata": {
        "id": "ZxXiHazpaxJo",
        "colab_type": "code",
        "colab": {}
      },
      "source": [
        "import numpy as np"
      ],
      "execution_count": 0,
      "outputs": []
    },
    {
      "cell_type": "code",
      "metadata": {
        "id": "yJ19aFa4apYl",
        "colab_type": "code",
        "colab": {}
      },
      "source": [
        "df.iloc[10] = np.nan"
      ],
      "execution_count": 0,
      "outputs": []
    },
    {
      "cell_type": "code",
      "metadata": {
        "id": "-Oqlhav2a4LK",
        "colab_type": "code",
        "colab": {}
      },
      "source": [
        "df"
      ],
      "execution_count": 0,
      "outputs": []
    },
    {
      "cell_type": "code",
      "metadata": {
        "id": "s3vZ4JTKaup8",
        "colab_type": "code",
        "colab": {}
      },
      "source": [
        "df.dropna(axis=0, how='all')"
      ],
      "execution_count": 0,
      "outputs": []
    },
    {
      "cell_type": "code",
      "metadata": {
        "id": "SnKBnIadazVQ",
        "colab_type": "code",
        "colab": {}
      },
      "source": [
        ""
      ],
      "execution_count": 0,
      "outputs": []
    },
    {
      "cell_type": "markdown",
      "metadata": {
        "id": "LM65PPBzbOui",
        "colab_type": "text"
      },
      "source": [
        "## 3. 중복된 값 제거 (drop_duplicates)"
      ]
    },
    {
      "cell_type": "code",
      "metadata": {
        "id": "EdUzQolPbO8f",
        "colab_type": "code",
        "colab": {}
      },
      "source": [
        "df = pd.read_csv('https://bit.ly/ds-korean-idol')"
      ],
      "execution_count": 0,
      "outputs": []
    },
    {
      "cell_type": "code",
      "metadata": {
        "id": "woBLJZFUbU6h",
        "colab_type": "code",
        "colab": {}
      },
      "source": [
        "df"
      ],
      "execution_count": 0,
      "outputs": []
    },
    {
      "cell_type": "markdown",
      "metadata": {
        "id": "JXF7vk-vcZUb",
        "colab_type": "text"
      },
      "source": [
        "### 3-1. column의 중복값 제거"
      ]
    },
    {
      "cell_type": "code",
      "metadata": {
        "id": "9_AZyJ1sYwNk",
        "colab_type": "code",
        "colab": {}
      },
      "source": [
        "df['키']"
      ],
      "execution_count": 0,
      "outputs": []
    },
    {
      "cell_type": "code",
      "metadata": {
        "id": "-pXUiB6SbY0Z",
        "colab_type": "code",
        "colab": {}
      },
      "source": [
        "df['키'].drop_duplicates()"
      ],
      "execution_count": 0,
      "outputs": []
    },
    {
      "cell_type": "markdown",
      "metadata": {
        "id": "KcM5wJipcB9q",
        "colab_type": "text"
      },
      "source": [
        "keep 옵션으로 유지하고 싶은 데이터를 선택할 수 있습니다. keep: 'first' / 'last'"
      ]
    },
    {
      "cell_type": "code",
      "metadata": {
        "id": "b7q96wO6ZJCT",
        "colab_type": "code",
        "colab": {}
      },
      "source": [
        "df = pd.read_csv('https://bit.ly/ds-korean-idol')"
      ],
      "execution_count": 0,
      "outputs": []
    },
    {
      "cell_type": "code",
      "metadata": {
        "id": "Fk4sENsUZQJA",
        "colab_type": "code",
        "colab": {}
      },
      "source": [
        "df['키']"
      ],
      "execution_count": 0,
      "outputs": []
    },
    {
      "cell_type": "code",
      "metadata": {
        "id": "Q_srg6nPZLcZ",
        "colab_type": "code",
        "colab": {}
      },
      "source": [
        "df['키'].drop_duplicates(keep='last')"
      ],
      "execution_count": 0,
      "outputs": []
    },
    {
      "cell_type": "code",
      "metadata": {
        "id": "mVXd3ELMbbIu",
        "colab_type": "code",
        "colab": {}
      },
      "source": [
        "df['키'] = df['키'].drop_duplicates(keep='last')"
      ],
      "execution_count": 0,
      "outputs": []
    },
    {
      "cell_type": "code",
      "metadata": {
        "id": "XvAtDkqRcLZE",
        "colab_type": "code",
        "colab": {}
      },
      "source": [
        "df"
      ],
      "execution_count": 0,
      "outputs": []
    },
    {
      "cell_type": "markdown",
      "metadata": {
        "id": "JvGBXH_lcdgO",
        "colab_type": "text"
      },
      "source": [
        "### 3-2. 행 전체 제거"
      ]
    },
    {
      "cell_type": "code",
      "metadata": {
        "id": "Iu2wh7UWcQBF",
        "colab_type": "code",
        "colab": {}
      },
      "source": [
        "df.drop_duplicates('그룹')"
      ],
      "execution_count": 0,
      "outputs": []
    },
    {
      "cell_type": "code",
      "metadata": {
        "id": "wYFdsmpZcWWS",
        "colab_type": "code",
        "colab": {}
      },
      "source": [
        "df.drop_duplicates('그룹', keep='last')"
      ],
      "execution_count": 0,
      "outputs": []
    },
    {
      "cell_type": "code",
      "metadata": {
        "id": "sTXLEQHjcqjQ",
        "colab_type": "code",
        "colab": {}
      },
      "source": [
        ""
      ],
      "execution_count": 0,
      "outputs": []
    },
    {
      "cell_type": "markdown",
      "metadata": {
        "id": "KHRTGoO9_Zo0",
        "colab_type": "text"
      },
      "source": [
        "## 4. Drop - column/row 제거하기"
      ]
    },
    {
      "cell_type": "code",
      "metadata": {
        "id": "JKCoGJrl_gJt",
        "colab_type": "code",
        "colab": {}
      },
      "source": [
        "df = pd.read_csv('https://bit.ly/ds-korean-idol')"
      ],
      "execution_count": 0,
      "outputs": []
    },
    {
      "cell_type": "code",
      "metadata": {
        "id": "1iW9HVvgZ8Ne",
        "colab_type": "code",
        "colab": {}
      },
      "source": [
        "df.head()"
      ],
      "execution_count": 0,
      "outputs": []
    },
    {
      "cell_type": "markdown",
      "metadata": {
        "id": "eOW3-Gvv_p7G",
        "colab_type": "text"
      },
      "source": [
        "### 4-1. column 제거하기"
      ]
    },
    {
      "cell_type": "markdown",
      "metadata": {
        "id": "dVeUO5AN_tOW",
        "colab_type": "text"
      },
      "source": [
        "drop()을 활용하여 column을 제거할 수 있습니다. column을 제거할 때는 axis=1 옵션을 줍니다."
      ]
    },
    {
      "cell_type": "code",
      "metadata": {
        "id": "byYYjZRU_2Fp",
        "colab_type": "code",
        "colab": {}
      },
      "source": [
        "df.drop('그룹', axis=1)"
      ],
      "execution_count": 0,
      "outputs": []
    },
    {
      "cell_type": "markdown",
      "metadata": {
        "id": "w-sCYpYv_4mE",
        "colab_type": "text"
      },
      "source": [
        "복수의 column를 제거하고자 할 때는 list로 지정합니다."
      ]
    },
    {
      "cell_type": "code",
      "metadata": {
        "id": "v-_LRHX7AWqY",
        "colab_type": "code",
        "colab": {}
      },
      "source": [
        "df.drop(['그룹', '소속사'], axis=1)"
      ],
      "execution_count": 0,
      "outputs": []
    },
    {
      "cell_type": "code",
      "metadata": {
        "id": "H4zzfrx9AcNj",
        "colab_type": "code",
        "colab": {}
      },
      "source": [
        ""
      ],
      "execution_count": 0,
      "outputs": []
    },
    {
      "cell_type": "markdown",
      "metadata": {
        "id": "9l-JocjH_6B8",
        "colab_type": "text"
      },
      "source": [
        "### 4-2. row 제거하기"
      ]
    },
    {
      "cell_type": "markdown",
      "metadata": {
        "id": "RFOWWRwPAEaU",
        "colab_type": "text"
      },
      "source": [
        "drop()을 활용하여 row를 제거할 수 있습니다. row를 제거할 때는 제거하고자하는 index와 axis=0 옵션을 줍니다."
      ]
    },
    {
      "cell_type": "code",
      "metadata": {
        "id": "NjNjVWlG_9LT",
        "colab_type": "code",
        "colab": {}
      },
      "source": [
        "df.drop(3, axis=0)"
      ],
      "execution_count": 0,
      "outputs": []
    },
    {
      "cell_type": "markdown",
      "metadata": {
        "id": "8j4LIvuIAQU6",
        "colab_type": "text"
      },
      "source": [
        "복수의 row를 제거하고자 할 때는 list로 지정합니다."
      ]
    },
    {
      "cell_type": "code",
      "metadata": {
        "id": "DbT0hr4v__b2",
        "colab_type": "code",
        "colab": {}
      },
      "source": [
        "df.drop([3, 5], axis=0)"
      ],
      "execution_count": 0,
      "outputs": []
    },
    {
      "cell_type": "code",
      "metadata": {
        "id": "YOaPkBxVAOhR",
        "colab_type": "code",
        "colab": {}
      },
      "source": [
        ""
      ],
      "execution_count": 0,
      "outputs": []
    }
  ]
}