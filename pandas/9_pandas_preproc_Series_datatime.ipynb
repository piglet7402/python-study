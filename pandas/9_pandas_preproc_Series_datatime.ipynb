{
  "nbformat": 4,
  "nbformat_minor": 0,
  "metadata": {
    "colab": {
      "name": "ch02-part06-데이터전처리-실습예제3-해설",
      "provenance": [],
      "collapsed_sections": []
    },
    "kernelspec": {
      "name": "python3",
      "display_name": "Python 3"
    }
  },
  "cells": [
    {
      "cell_type": "code",
      "metadata": {
        "id": "EmsNKlAMHRS8",
        "colab_type": "code",
        "colab": {}
      },
      "source": [
        "import pandas as pd"
      ],
      "execution_count": 0,
      "outputs": []
    },
    {
      "cell_type": "markdown",
      "metadata": {
        "id": "3mRYTNGoxRxG",
        "colab_type": "text"
      },
      "source": [
        "## 실습에 사용할 예제 파일"
      ]
    },
    {
      "cell_type": "markdown",
      "metadata": {
        "id": "lXUT8XqPxRqI",
        "colab_type": "text"
      },
      "source": [
        "[국내 아이돌 평판지수 (csv)](http://bit.ly/ds-korean-idol)"
      ]
    },
    {
      "cell_type": "code",
      "metadata": {
        "id": "83eTZxB_xPzR",
        "colab_type": "code",
        "colab": {}
      },
      "source": [
        ""
      ],
      "execution_count": 0,
      "outputs": []
    },
    {
      "cell_type": "markdown",
      "metadata": {
        "id": "v2wx_FBF0--v",
        "colab_type": "text"
      },
      "source": [
        "## 데이터프레임 로드"
      ]
    },
    {
      "cell_type": "code",
      "metadata": {
        "id": "bPKhlsW7xrjN",
        "colab_type": "code",
        "colab": {}
      },
      "source": [
        "df = pd.read_csv('http://bit.ly/ds-korean-idol')"
      ],
      "execution_count": 0,
      "outputs": []
    },
    {
      "cell_type": "code",
      "metadata": {
        "id": "8KOEwu0dxrqA",
        "colab_type": "code",
        "colab": {}
      },
      "source": [
        "df"
      ],
      "execution_count": 0,
      "outputs": []
    },
    {
      "cell_type": "markdown",
      "metadata": {
        "id": "rZm6yeoCICMH",
        "colab_type": "text"
      },
      "source": [
        "## 1. Series의 Type"
      ]
    },
    {
      "cell_type": "markdown",
      "metadata": {
        "id": "xC1ZUahrIEIz",
        "colab_type": "text"
      },
      "source": [
        "### 1-1. type 확인하기"
      ]
    },
    {
      "cell_type": "code",
      "metadata": {
        "id": "jWjLRMDuH4pJ",
        "colab_type": "code",
        "colab": {}
      },
      "source": [
        "df.info()"
      ],
      "execution_count": 0,
      "outputs": []
    },
    {
      "cell_type": "markdown",
      "metadata": {
        "id": "rDJHSYBAH6H5",
        "colab_type": "text"
      },
      "source": [
        "이전에 배운 info를 찍어보면, 우측에 type이 같이 찍히는 것을 확인하실 수 있습니다."
      ]
    },
    {
      "cell_type": "markdown",
      "metadata": {
        "id": "WgM3sO3QIBb1",
        "colab_type": "text"
      },
      "source": [
        "* object: 일반 문자열 타입\n",
        "* float: 실수\n",
        "* int: 정수\n",
        "* category: 카테고리\n",
        "* datetime: 시간"
      ]
    },
    {
      "cell_type": "markdown",
      "metadata": {
        "id": "Hh0DO3mxIHzZ",
        "colab_type": "text"
      },
      "source": [
        "### 1-2. type 변환하기"
      ]
    },
    {
      "cell_type": "markdown",
      "metadata": {
        "id": "l_czb9Q8IK4D",
        "colab_type": "text"
      },
      "source": [
        "* type 변환을 위해서는 **astype**이라는 메소드를 사용합니다."
      ]
    },
    {
      "cell_type": "markdown",
      "metadata": {
        "id": "JKMAMkboIbtC",
        "colab_type": "text"
      },
      "source": [
        "키 column은 현재 float로 명시되어 있습니다.\n",
        "\n",
        "정수형인 int type으로 변경해 보겠습니다."
      ]
    },
    {
      "cell_type": "code",
      "metadata": {
        "id": "fuIoNJGuIk2g",
        "colab_type": "code",
        "colab": {}
      },
      "source": [
        "df['키'].dtypes"
      ],
      "execution_count": 0,
      "outputs": []
    },
    {
      "cell_type": "code",
      "metadata": {
        "id": "WsLYnHXaIKX0",
        "colab_type": "code",
        "colab": {}
      },
      "source": [
        "df['키'].astype(int)"
      ],
      "execution_count": 0,
      "outputs": []
    },
    {
      "cell_type": "markdown",
      "metadata": {
        "id": "CiH7EJOnIa3E",
        "colab_type": "text"
      },
      "source": [
        "에러가 발생했습니다..NaN 값이 들어있기 때문에 변경이 안됩니다.\n",
        "\n",
        "이럴 때는 fillna로 빈값을 임의로 채워 주겠습니다."
      ]
    },
    {
      "cell_type": "code",
      "metadata": {
        "id": "J0y6Y_sIIJrz",
        "colab_type": "code",
        "colab": {}
      },
      "source": [
        "df['키'] = df['키'].fillna(-1)"
      ],
      "execution_count": 0,
      "outputs": []
    },
    {
      "cell_type": "code",
      "metadata": {
        "id": "DiPq7PIsI_fC",
        "colab_type": "code",
        "colab": {}
      },
      "source": [
        "df['키']"
      ],
      "execution_count": 0,
      "outputs": []
    },
    {
      "cell_type": "code",
      "metadata": {
        "id": "ehjS1gLZI3Ej",
        "colab_type": "code",
        "colab": {}
      },
      "source": [
        "df['키'].astype(object)"
      ],
      "execution_count": 0,
      "outputs": []
    },
    {
      "cell_type": "markdown",
      "metadata": {
        "id": "1BMJUJMkI29m",
        "colab_type": "text"
      },
      "source": [
        "int형으로 타입을 바꾸니 float -> int로 변경 된 것을 볼 수 있습니다."
      ]
    },
    {
      "cell_type": "code",
      "metadata": {
        "id": "hrFEbZTeJKVN",
        "colab_type": "code",
        "colab": {}
      },
      "source": [
        ""
      ],
      "execution_count": 0,
      "outputs": []
    },
    {
      "cell_type": "markdown",
      "metadata": {
        "id": "o_jszjQJIUG6",
        "colab_type": "text"
      },
      "source": [
        "### 1-3. 날짜 변환하기 (datetime 타입)"
      ]
    },
    {
      "cell_type": "markdown",
      "metadata": {
        "id": "tsGyMn2FIa8G",
        "colab_type": "text"
      },
      "source": [
        "* 날짜를 변환하기 위해서는 판다스 메소드인 **to_datetime**이라는 메소드를 사용합니다."
      ]
    },
    {
      "cell_type": "markdown",
      "metadata": {
        "id": "09KxrymPIxnq",
        "colab_type": "text"
      },
      "source": [
        "현재 날짜 column은 dtype:이 object, 즉 문자열 타입으로 되어 있습니다."
      ]
    },
    {
      "cell_type": "code",
      "metadata": {
        "id": "JjXogcfJIbAX",
        "colab_type": "code",
        "colab": {}
      },
      "source": [
        "df['생년월일']"
      ],
      "execution_count": 0,
      "outputs": []
    },
    {
      "cell_type": "markdown",
      "metadata": {
        "id": "mWGRwJZXIbD3",
        "colab_type": "text"
      },
      "source": [
        "**datetime 타입**으로 바꾸어 볼까요?"
      ]
    },
    {
      "cell_type": "code",
      "metadata": {
        "id": "nzMd_SrBI4Um",
        "colab_type": "code",
        "colab": {}
      },
      "source": [
        "pd.to_datetime(df['생년월일'])"
      ],
      "execution_count": 0,
      "outputs": []
    },
    {
      "cell_type": "markdown",
      "metadata": {
        "id": "icLMBi0YI3bY",
        "colab_type": "text"
      },
      "source": [
        "dtype이 **datetime**으로 변환된 것을 확인 하셨나요?"
      ]
    },
    {
      "cell_type": "markdown",
      "metadata": {
        "id": "Q5xsSbZTIbHs",
        "colab_type": "text"
      },
      "source": [
        "하지만, 이렇게 해준다고 해서 우리의 DataFrame에는 반영되어 있지 않습니다."
      ]
    },
    {
      "cell_type": "markdown",
      "metadata": {
        "id": "6HLsbibqJZnK",
        "colab_type": "text"
      },
      "source": [
        "변환된 것을 **df['날짜'] column에 다시 대입**을 해줘야 정상적으로 변환된 값이 들어 갑니다."
      ]
    },
    {
      "cell_type": "code",
      "metadata": {
        "id": "OUJ0mMssJhlk",
        "colab_type": "code",
        "colab": {}
      },
      "source": [
        "df['생년월일'] = pd.to_datetime(df['생년월일'])\n",
        "df['생년월일']"
      ],
      "execution_count": 0,
      "outputs": []
    },
    {
      "cell_type": "markdown",
      "metadata": {
        "id": "t2jpQwEyJvRr",
        "colab_type": "text"
      },
      "source": [
        "datetime 타입으로 우리가 **변환해준 중요한 이유**가 있습니다!\n",
        "\n",
        "* 매우 손쉽게, 월, 일, 요일 등등의 날짜 정보를 세부적으로 추출해낼 수 있습니다.\n",
        "* datetime의 약어인 **'dt'**에는 다양한 정보들을 제공해 줍니다."
      ]
    },
    {
      "cell_type": "code",
      "metadata": {
        "id": "nFGJ4cLRno-c",
        "colab_type": "code",
        "colab": {}
      },
      "source": [
        "df.head()"
      ],
      "execution_count": 0,
      "outputs": []
    },
    {
      "cell_type": "code",
      "metadata": {
        "id": "eIo3Gs2Knbpl",
        "colab_type": "code",
        "colab": {}
      },
      "source": [
        "df['생년월일'].dt.dayofweek"
      ],
      "execution_count": 0,
      "outputs": []
    },
    {
      "cell_type": "code",
      "metadata": {
        "id": "22UVVDRLnmA8",
        "colab_type": "code",
        "colab": {}
      },
      "source": [
        ""
      ],
      "execution_count": 0,
      "outputs": []
    },
    {
      "cell_type": "code",
      "metadata": {
        "id": "edKSaW4ZnmJb",
        "colab_type": "code",
        "colab": {}
      },
      "source": [
        ""
      ],
      "execution_count": 0,
      "outputs": []
    },
    {
      "cell_type": "code",
      "metadata": {
        "id": "1AeGsAb2Kdss",
        "colab_type": "code",
        "colab": {}
      },
      "source": [
        "df['생년월일'].dt.year"
      ],
      "execution_count": 0,
      "outputs": []
    },
    {
      "cell_type": "code",
      "metadata": {
        "id": "X96WHw23KDJQ",
        "colab_type": "code",
        "colab": {}
      },
      "source": [
        "df['생년월일'].dt.month"
      ],
      "execution_count": 0,
      "outputs": []
    },
    {
      "cell_type": "code",
      "metadata": {
        "id": "IsawX4U7KFE_",
        "colab_type": "code",
        "colab": {}
      },
      "source": [
        "df['생년월일'].dt.day"
      ],
      "execution_count": 0,
      "outputs": []
    },
    {
      "cell_type": "code",
      "metadata": {
        "id": "oobdSaZVKSJj",
        "colab_type": "code",
        "colab": {}
      },
      "source": [
        "df['생년월일'].dt.hour"
      ],
      "execution_count": 0,
      "outputs": []
    },
    {
      "cell_type": "code",
      "metadata": {
        "id": "41j63_xUKUdK",
        "colab_type": "code",
        "colab": {}
      },
      "source": [
        "df['생년월일'].dt.minute"
      ],
      "execution_count": 0,
      "outputs": []
    },
    {
      "cell_type": "code",
      "metadata": {
        "id": "le_vnURJKV_M",
        "colab_type": "code",
        "colab": {}
      },
      "source": [
        "df['생년월일'].dt.second"
      ],
      "execution_count": 0,
      "outputs": []
    },
    {
      "cell_type": "markdown",
      "metadata": {
        "id": "jr4iVjDOKo8t",
        "colab_type": "text"
      },
      "source": [
        "**월요일: 0 화요일: 1, 수요일: 2, 목요일: 3, 금요일: 4, 토요일: 5, 일요일: 6**"
      ]
    },
    {
      "cell_type": "code",
      "metadata": {
        "id": "0qXA-uz8KXnk",
        "colab_type": "code",
        "colab": {}
      },
      "source": [
        "df['생년월일'].dt.dayofweek"
      ],
      "execution_count": 0,
      "outputs": []
    },
    {
      "cell_type": "code",
      "metadata": {
        "id": "LGwwVGY0KZcL",
        "colab_type": "code",
        "colab": {}
      },
      "source": [
        "df['생년월일'].dt.weekofyear"
      ],
      "execution_count": 0,
      "outputs": []
    },
    {
      "cell_type": "code",
      "metadata": {
        "id": "8u8GRahnLB9q",
        "colab_type": "code",
        "colab": {}
      },
      "source": [
        "df.head()"
      ],
      "execution_count": 0,
      "outputs": []
    },
    {
      "cell_type": "code",
      "metadata": {
        "id": "fuvRwvrqoGRA",
        "colab_type": "code",
        "colab": {}
      },
      "source": [
        "df['생일_년'] = df['생년월일'].dt.year\n",
        "df['생일_월'] = df['생년월일'].dt.month\n",
        "df['생일_일'] = df['생년월일'].dt.day"
      ],
      "execution_count": 0,
      "outputs": []
    },
    {
      "cell_type": "code",
      "metadata": {
        "id": "DmkzB7kDoIwf",
        "colab_type": "code",
        "colab": {}
      },
      "source": [
        "df.head()"
      ],
      "execution_count": 0,
      "outputs": []
    },
    {
      "cell_type": "code",
      "metadata": {
        "id": "7Ogsic9YoMVu",
        "colab_type": "code",
        "colab": {}
      },
      "source": [
        ""
      ],
      "execution_count": 0,
      "outputs": []
    }
  ]
}